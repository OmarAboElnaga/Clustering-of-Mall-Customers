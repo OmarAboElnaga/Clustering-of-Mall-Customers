{
 "cells": [
  {
   "cell_type": "code",
   "execution_count": 1,
   "id": "9ec481c7",
   "metadata": {
    "_cell_guid": "b1076dfc-b9ad-4769-8c92-a6c4dae69d19",
    "_uuid": "8f2839f25d086af736a60e9eeb907d3b93b6e0e5",
    "execution": {
     "iopub.execute_input": "2024-08-05T18:24:21.459421Z",
     "iopub.status.busy": "2024-08-05T18:24:21.458982Z",
     "iopub.status.idle": "2024-08-05T18:24:24.009019Z",
     "shell.execute_reply": "2024-08-05T18:24:24.007992Z"
    },
    "papermill": {
     "duration": 2.557964,
     "end_time": "2024-08-05T18:24:24.011530",
     "exception": false,
     "start_time": "2024-08-05T18:24:21.453566",
     "status": "completed"
    },
    "tags": []
   },
   "outputs": [],
   "source": [
    "import numpy as np\n",
    "import pandas as pd \n",
    "import matplotlib.pyplot as plt\n",
    "from sklearn.cluster import KMeans\n",
    "import warnings\n",
    "warnings.filterwarnings(\"ignore\")"
   ]
  },
  {
   "cell_type": "code",
   "execution_count": 2,
   "id": "81ce20f4",
   "metadata": {
    "execution": {
     "iopub.execute_input": "2024-08-05T18:24:24.020766Z",
     "iopub.status.busy": "2024-08-05T18:24:24.019907Z",
     "iopub.status.idle": "2024-08-05T18:24:24.060462Z",
     "shell.execute_reply": "2024-08-05T18:24:24.059318Z"
    },
    "papermill": {
     "duration": 0.047641,
     "end_time": "2024-08-05T18:24:24.062945",
     "exception": false,
     "start_time": "2024-08-05T18:24:24.015304",
     "status": "completed"
    },
    "tags": []
   },
   "outputs": [
    {
     "data": {
      "text/html": [
       "<div>\n",
       "<style scoped>\n",
       "    .dataframe tbody tr th:only-of-type {\n",
       "        vertical-align: middle;\n",
       "    }\n",
       "\n",
       "    .dataframe tbody tr th {\n",
       "        vertical-align: top;\n",
       "    }\n",
       "\n",
       "    .dataframe thead th {\n",
       "        text-align: right;\n",
       "    }\n",
       "</style>\n",
       "<table border=\"1\" class=\"dataframe\">\n",
       "  <thead>\n",
       "    <tr style=\"text-align: right;\">\n",
       "      <th></th>\n",
       "      <th>CustomerID</th>\n",
       "      <th>Gender</th>\n",
       "      <th>Age</th>\n",
       "      <th>Annual Income (k$)</th>\n",
       "      <th>Spending Score (1-100)</th>\n",
       "    </tr>\n",
       "  </thead>\n",
       "  <tbody>\n",
       "    <tr>\n",
       "      <th>0</th>\n",
       "      <td>1</td>\n",
       "      <td>Male</td>\n",
       "      <td>19</td>\n",
       "      <td>15</td>\n",
       "      <td>39</td>\n",
       "    </tr>\n",
       "    <tr>\n",
       "      <th>1</th>\n",
       "      <td>2</td>\n",
       "      <td>Male</td>\n",
       "      <td>21</td>\n",
       "      <td>15</td>\n",
       "      <td>81</td>\n",
       "    </tr>\n",
       "    <tr>\n",
       "      <th>2</th>\n",
       "      <td>3</td>\n",
       "      <td>Female</td>\n",
       "      <td>20</td>\n",
       "      <td>16</td>\n",
       "      <td>6</td>\n",
       "    </tr>\n",
       "    <tr>\n",
       "      <th>3</th>\n",
       "      <td>4</td>\n",
       "      <td>Female</td>\n",
       "      <td>23</td>\n",
       "      <td>16</td>\n",
       "      <td>77</td>\n",
       "    </tr>\n",
       "    <tr>\n",
       "      <th>4</th>\n",
       "      <td>5</td>\n",
       "      <td>Female</td>\n",
       "      <td>31</td>\n",
       "      <td>17</td>\n",
       "      <td>40</td>\n",
       "    </tr>\n",
       "  </tbody>\n",
       "</table>\n",
       "</div>"
      ],
      "text/plain": [
       "   CustomerID  Gender  Age  Annual Income (k$)  Spending Score (1-100)\n",
       "0           1    Male   19                  15                      39\n",
       "1           2    Male   21                  15                      81\n",
       "2           3  Female   20                  16                       6\n",
       "3           4  Female   23                  16                      77\n",
       "4           5  Female   31                  17                      40"
      ]
     },
     "execution_count": 2,
     "metadata": {},
     "output_type": "execute_result"
    }
   ],
   "source": [
    "df = pd.read_csv(\"/kaggle/input/customer-segmentation-tutorial-in-python/Mall_Customers.csv\")\n",
    "df.head()"
   ]
  },
  {
   "cell_type": "code",
   "execution_count": 3,
   "id": "ebf76016",
   "metadata": {
    "execution": {
     "iopub.execute_input": "2024-08-05T18:24:24.072066Z",
     "iopub.status.busy": "2024-08-05T18:24:24.071645Z",
     "iopub.status.idle": "2024-08-05T18:24:24.083893Z",
     "shell.execute_reply": "2024-08-05T18:24:24.082847Z"
    },
    "papermill": {
     "duration": 0.019405,
     "end_time": "2024-08-05T18:24:24.086165",
     "exception": false,
     "start_time": "2024-08-05T18:24:24.066760",
     "status": "completed"
    },
    "tags": []
   },
   "outputs": [
    {
     "data": {
      "text/html": [
       "<div>\n",
       "<style scoped>\n",
       "    .dataframe tbody tr th:only-of-type {\n",
       "        vertical-align: middle;\n",
       "    }\n",
       "\n",
       "    .dataframe tbody tr th {\n",
       "        vertical-align: top;\n",
       "    }\n",
       "\n",
       "    .dataframe thead th {\n",
       "        text-align: right;\n",
       "    }\n",
       "</style>\n",
       "<table border=\"1\" class=\"dataframe\">\n",
       "  <thead>\n",
       "    <tr style=\"text-align: right;\">\n",
       "      <th></th>\n",
       "      <th>CustomerID</th>\n",
       "      <th>Gender</th>\n",
       "      <th>Age</th>\n",
       "      <th>Annual Income (k$)</th>\n",
       "      <th>Spending Score (1-100)</th>\n",
       "    </tr>\n",
       "  </thead>\n",
       "  <tbody>\n",
       "    <tr>\n",
       "      <th>195</th>\n",
       "      <td>196</td>\n",
       "      <td>Female</td>\n",
       "      <td>35</td>\n",
       "      <td>120</td>\n",
       "      <td>79</td>\n",
       "    </tr>\n",
       "    <tr>\n",
       "      <th>196</th>\n",
       "      <td>197</td>\n",
       "      <td>Female</td>\n",
       "      <td>45</td>\n",
       "      <td>126</td>\n",
       "      <td>28</td>\n",
       "    </tr>\n",
       "    <tr>\n",
       "      <th>197</th>\n",
       "      <td>198</td>\n",
       "      <td>Male</td>\n",
       "      <td>32</td>\n",
       "      <td>126</td>\n",
       "      <td>74</td>\n",
       "    </tr>\n",
       "    <tr>\n",
       "      <th>198</th>\n",
       "      <td>199</td>\n",
       "      <td>Male</td>\n",
       "      <td>32</td>\n",
       "      <td>137</td>\n",
       "      <td>18</td>\n",
       "    </tr>\n",
       "    <tr>\n",
       "      <th>199</th>\n",
       "      <td>200</td>\n",
       "      <td>Male</td>\n",
       "      <td>30</td>\n",
       "      <td>137</td>\n",
       "      <td>83</td>\n",
       "    </tr>\n",
       "  </tbody>\n",
       "</table>\n",
       "</div>"
      ],
      "text/plain": [
       "     CustomerID  Gender  Age  Annual Income (k$)  Spending Score (1-100)\n",
       "195         196  Female   35                 120                      79\n",
       "196         197  Female   45                 126                      28\n",
       "197         198    Male   32                 126                      74\n",
       "198         199    Male   32                 137                      18\n",
       "199         200    Male   30                 137                      83"
      ]
     },
     "execution_count": 3,
     "metadata": {},
     "output_type": "execute_result"
    }
   ],
   "source": [
    "df.tail()"
   ]
  },
  {
   "cell_type": "code",
   "execution_count": 4,
   "id": "e97926db",
   "metadata": {
    "execution": {
     "iopub.execute_input": "2024-08-05T18:24:24.095587Z",
     "iopub.status.busy": "2024-08-05T18:24:24.095191Z",
     "iopub.status.idle": "2024-08-05T18:24:24.357223Z",
     "shell.execute_reply": "2024-08-05T18:24:24.356052Z"
    },
    "papermill": {
     "duration": 0.269482,
     "end_time": "2024-08-05T18:24:24.359553",
     "exception": false,
     "start_time": "2024-08-05T18:24:24.090071",
     "status": "completed"
    },
    "tags": []
   },
   "outputs": [
    {
     "data": {
      "image/png": "[encoded data removed]",
      "text/plain": [
       "<Figure size 640x480 with 1 Axes>"
      ]
     },
     "metadata": {},
     "output_type": "display_data"
    }
   ],
   "source": [
    "plt.scatter(df[\"Spending Score (1-100)\"] , df[\"Annual Income (k$)\"])\n",
    "plt.show()"
   ]
  },
  {
   "cell_type": "code",
   "execution_count": 5,
   "id": "1760b99f",
   "metadata": {
    "execution": {
     "iopub.execute_input": "2024-08-05T18:24:24.369821Z",
     "iopub.status.busy": "2024-08-05T18:24:24.369420Z",
     "iopub.status.idle": "2024-08-05T18:24:25.578568Z",
     "shell.execute_reply": "2024-08-05T18:24:25.577668Z"
    },
    "papermill": {
     "duration": 1.21709,
     "end_time": "2024-08-05T18:24:25.581078",
     "exception": false,
     "start_time": "2024-08-05T18:24:24.363988",
     "status": "completed"
    },
    "tags": []
   },
   "outputs": [],
   "source": [
    "ssw = []\n",
    "clusters = range(1,10)\n",
    "for i in clusters:\n",
    "    model = KMeans(n_clusters = i , init='k-means++' , n_init=100)\n",
    "    model.fit(df[[\"Spending Score (1-100)\" , \"Annual Income (k$)\"]])\n",
    "    ssw.append(model.inertia_)"
   ]
  },
  {
   "cell_type": "code",
   "execution_count": 6,
   "id": "c2b01771",
   "metadata": {
    "execution": {
     "iopub.execute_input": "2024-08-05T18:24:25.591593Z",
     "iopub.status.busy": "2024-08-05T18:24:25.591203Z",
     "iopub.status.idle": "2024-08-05T18:24:25.844035Z",
     "shell.execute_reply": "2024-08-05T18:24:25.842851Z"
    },
    "papermill": {
     "duration": 0.260745,
     "end_time": "2024-08-05T18:24:25.846387",
     "exception": false,
     "start_time": "2024-08-05T18:24:25.585642",
     "status": "completed"
    },
    "tags": []
   },
   "outputs": [
    {
     "data": {
      "text/plain": [
       "[<matplotlib.lines.Line2D at 0x7fc664d19420>]"
      ]
     },
     "execution_count": 6,
     "metadata": {},
     "output_type": "execute_result"
    },
    {
     "data": {
      "image/png": "[encoded data removed]",
      "text/plain": [
       "<Figure size 640x480 with 1 Axes>"
      ]
     },
     "metadata": {},
     "output_type": "display_data"
    }
   ],
   "source": [
    "plt.xlabel(\"Number of clusters\")\n",
    "plt.ylabel(\"WCSS\")\n",
    "plt.title(\"Elbow plot\")\n",
    "plt.plot(clusters , ssw)"
   ]
  },
  {
   "cell_type": "markdown",
   "id": "d70f4cfa",
   "metadata": {
    "papermill": {
     "duration": 0.004495,
     "end_time": "2024-08-05T18:24:25.855816",
     "exception": false,
     "start_time": "2024-08-05T18:24:25.851321",
     "status": "completed"
    },
    "tags": []
   },
   "source": [
    "Elbow plot has indentified that 5 groups clustering is the best way for clustering data"
   ]
  },
  {
   "cell_type": "code",
   "execution_count": 7,
   "id": "94afdab1",
   "metadata": {
    "execution": {
     "iopub.execute_input": "2024-08-05T18:24:25.866715Z",
     "iopub.status.busy": "2024-08-05T18:24:25.866345Z",
     "iopub.status.idle": "2024-08-05T18:24:26.003264Z",
     "shell.execute_reply": "2024-08-05T18:24:26.002163Z"
    },
    "papermill": {
     "duration": 0.145053,
     "end_time": "2024-08-05T18:24:26.005564",
     "exception": false,
     "start_time": "2024-08-05T18:24:25.860511",
     "status": "completed"
    },
    "tags": []
   },
   "outputs": [
    {
     "data": {
      "text/plain": [
       "array([2, 3, 2, 3, 2, 3, 2, 3, 2, 3, 2, 3, 2, 3, 2, 3, 2, 3, 2, 3, 2, 3,\n",
       "       2, 3, 2, 3, 2, 3, 2, 3, 2, 3, 2, 3, 2, 3, 2, 3, 2, 3, 2, 3, 2, 0,\n",
       "       2, 3, 0, 0, 0, 0, 0, 0, 0, 0, 0, 0, 0, 0, 0, 0, 0, 0, 0, 0, 0, 0,\n",
       "       0, 0, 0, 0, 0, 0, 0, 0, 0, 0, 0, 0, 0, 0, 0, 0, 0, 0, 0, 0, 0, 0,\n",
       "       0, 0, 0, 0, 0, 0, 0, 0, 0, 0, 0, 0, 0, 0, 0, 0, 0, 0, 0, 0, 0, 0,\n",
       "       0, 0, 0, 0, 0, 0, 0, 0, 0, 0, 0, 0, 0, 4, 1, 4, 0, 4, 1, 4, 1, 4,\n",
       "       0, 4, 1, 4, 1, 4, 1, 4, 1, 4, 0, 4, 1, 4, 1, 4, 1, 4, 1, 4, 1, 4,\n",
       "       1, 4, 1, 4, 1, 4, 1, 4, 1, 4, 1, 4, 1, 4, 1, 4, 1, 4, 1, 4, 1, 4,\n",
       "       1, 4, 1, 4, 1, 4, 1, 4, 1, 4, 1, 4, 1, 4, 1, 4, 1, 4, 1, 4, 1, 4,\n",
       "       1, 4], dtype=int32)"
      ]
     },
     "execution_count": 7,
     "metadata": {},
     "output_type": "execute_result"
    }
   ],
   "source": [
    "model = KMeans(n_clusters = 5, init='k-means++',n_init=100)\n",
    "y_predicted  = model.fit_predict(df[[\"Spending Score (1-100)\" , \"Annual Income (k$)\"]])\n",
    "y_predicted"
   ]
  },
  {
   "cell_type": "code",
   "execution_count": 8,
   "id": "48ebba31",
   "metadata": {
    "execution": {
     "iopub.execute_input": "2024-08-05T18:24:26.018093Z",
     "iopub.status.busy": "2024-08-05T18:24:26.017244Z",
     "iopub.status.idle": "2024-08-05T18:24:26.023050Z",
     "shell.execute_reply": "2024-08-05T18:24:26.022029Z"
    },
    "papermill": {
     "duration": 0.014463,
     "end_time": "2024-08-05T18:24:26.025209",
     "exception": false,
     "start_time": "2024-08-05T18:24:26.010746",
     "status": "completed"
    },
    "tags": []
   },
   "outputs": [],
   "source": [
    "df[\"Group\"] = y_predicted"
   ]
  },
  {
   "cell_type": "code",
   "execution_count": 9,
   "id": "c77825e5",
   "metadata": {
    "execution": {
     "iopub.execute_input": "2024-08-05T18:24:26.036864Z",
     "iopub.status.busy": "2024-08-05T18:24:26.036453Z",
     "iopub.status.idle": "2024-08-05T18:24:26.053907Z",
     "shell.execute_reply": "2024-08-05T18:24:26.052864Z"
    },
    "papermill": {
     "duration": 0.025917,
     "end_time": "2024-08-05T18:24:26.056137",
     "exception": false,
     "start_time": "2024-08-05T18:24:26.030220",
     "status": "completed"
    },
    "tags": []
   },
   "outputs": [
    {
     "data": {
      "text/html": [
       "<div>\n",
       "<style scoped>\n",
       "    .dataframe tbody tr th:only-of-type {\n",
       "        vertical-align: middle;\n",
       "    }\n",
       "\n",
       "    .dataframe tbody tr th {\n",
       "        vertical-align: top;\n",
       "    }\n",
       "\n",
       "    .dataframe thead th {\n",
       "        text-align: right;\n",
       "    }\n",
       "</style>\n",
       "<table border=\"1\" class=\"dataframe\">\n",
       "  <thead>\n",
       "    <tr style=\"text-align: right;\">\n",
       "      <th></th>\n",
       "      <th>CustomerID</th>\n",
       "      <th>Gender</th>\n",
       "      <th>Age</th>\n",
       "      <th>Annual Income (k$)</th>\n",
       "      <th>Spending Score (1-100)</th>\n",
       "      <th>Group</th>\n",
       "    </tr>\n",
       "  </thead>\n",
       "  <tbody>\n",
       "    <tr>\n",
       "      <th>0</th>\n",
       "      <td>1</td>\n",
       "      <td>Male</td>\n",
       "      <td>19</td>\n",
       "      <td>15</td>\n",
       "      <td>39</td>\n",
       "      <td>2</td>\n",
       "    </tr>\n",
       "    <tr>\n",
       "      <th>1</th>\n",
       "      <td>2</td>\n",
       "      <td>Male</td>\n",
       "      <td>21</td>\n",
       "      <td>15</td>\n",
       "      <td>81</td>\n",
       "      <td>3</td>\n",
       "    </tr>\n",
       "    <tr>\n",
       "      <th>2</th>\n",
       "      <td>3</td>\n",
       "      <td>Female</td>\n",
       "      <td>20</td>\n",
       "      <td>16</td>\n",
       "      <td>6</td>\n",
       "      <td>2</td>\n",
       "    </tr>\n",
       "    <tr>\n",
       "      <th>3</th>\n",
       "      <td>4</td>\n",
       "      <td>Female</td>\n",
       "      <td>23</td>\n",
       "      <td>16</td>\n",
       "      <td>77</td>\n",
       "      <td>3</td>\n",
       "    </tr>\n",
       "    <tr>\n",
       "      <th>4</th>\n",
       "      <td>5</td>\n",
       "      <td>Female</td>\n",
       "      <td>31</td>\n",
       "      <td>17</td>\n",
       "      <td>40</td>\n",
       "      <td>2</td>\n",
       "    </tr>\n",
       "    <tr>\n",
       "      <th>...</th>\n",
       "      <td>...</td>\n",
       "      <td>...</td>\n",
       "      <td>...</td>\n",
       "      <td>...</td>\n",
       "      <td>...</td>\n",
       "      <td>...</td>\n",
       "    </tr>\n",
       "    <tr>\n",
       "      <th>195</th>\n",
       "      <td>196</td>\n",
       "      <td>Female</td>\n",
       "      <td>35</td>\n",
       "      <td>120</td>\n",
       "      <td>79</td>\n",
       "      <td>4</td>\n",
       "    </tr>\n",
       "    <tr>\n",
       "      <th>196</th>\n",
       "      <td>197</td>\n",
       "      <td>Female</td>\n",
       "      <td>45</td>\n",
       "      <td>126</td>\n",
       "      <td>28</td>\n",
       "      <td>1</td>\n",
       "    </tr>\n",
       "    <tr>\n",
       "      <th>197</th>\n",
       "      <td>198</td>\n",
       "      <td>Male</td>\n",
       "      <td>32</td>\n",
       "      <td>126</td>\n",
       "      <td>74</td>\n",
       "      <td>4</td>\n",
       "    </tr>\n",
       "    <tr>\n",
       "      <th>198</th>\n",
       "      <td>199</td>\n",
       "      <td>Male</td>\n",
       "      <td>32</td>\n",
       "      <td>137</td>\n",
       "      <td>18</td>\n",
       "      <td>1</td>\n",
       "    </tr>\n",
       "    <tr>\n",
       "      <th>199</th>\n",
       "      <td>200</td>\n",
       "      <td>Male</td>\n",
       "      <td>30</td>\n",
       "      <td>137</td>\n",
       "      <td>83</td>\n",
       "      <td>4</td>\n",
       "    </tr>\n",
       "  </tbody>\n",
       "</table>\n",
       "<p>200 rows × 6 columns</p>\n",
       "</div>"
      ],
      "text/plain": [
       "     CustomerID  Gender  Age  Annual Income (k$)  Spending Score (1-100)  \\\n",
       "0             1    Male   19                  15                      39   \n",
       "1             2    Male   21                  15                      81   \n",
       "2             3  Female   20                  16                       6   \n",
       "3             4  Female   23                  16                      77   \n",
       "4             5  Female   31                  17                      40   \n",
       "..          ...     ...  ...                 ...                     ...   \n",
       "195         196  Female   35                 120                      79   \n",
       "196         197  Female   45                 126                      28   \n",
       "197         198    Male   32                 126                      74   \n",
       "198         199    Male   32                 137                      18   \n",
       "199         200    Male   30                 137                      83   \n",
       "\n",
       "     Group  \n",
       "0        2  \n",
       "1        3  \n",
       "2        2  \n",
       "3        3  \n",
       "4        2  \n",
       "..     ...  \n",
       "195      4  \n",
       "196      1  \n",
       "197      4  \n",
       "198      1  \n",
       "199      4  \n",
       "\n",
       "[200 rows x 6 columns]"
      ]
     },
     "execution_count": 9,
     "metadata": {},
     "output_type": "execute_result"
    }
   ],
   "source": [
    "df"
   ]
  },
  {
   "cell_type": "code",
   "execution_count": 10,
   "id": "aa447a1b",
   "metadata": {
    "execution": {
     "iopub.execute_input": "2024-08-05T18:24:26.068673Z",
     "iopub.status.busy": "2024-08-05T18:24:26.068310Z",
     "iopub.status.idle": "2024-08-05T18:24:26.483991Z",
     "shell.execute_reply": "2024-08-05T18:24:26.482721Z"
    },
    "papermill": {
     "duration": 0.424703,
     "end_time": "2024-08-05T18:24:26.486454",
     "exception": false,
     "start_time": "2024-08-05T18:24:26.061751",
     "status": "completed"
    },
    "tags": []
   },
   "outputs": [
    {
     "data": {
      "image/png": "[encoded data removed]",
      "text/plain": [
       "<Figure size 900x750 with 1 Axes>"
      ]
     },
     "metadata": {},
     "output_type": "display_data"
    }
   ],
   "source": [
    "df1=  df[df.Group == 0]\n",
    "df2=  df[df.Group == 1]\n",
    "df3=  df[df.Group == 2]\n",
    "df4=  df[df.Group == 3]\n",
    "df5=  df[df.Group == 4]\n",
    "plt.figure(figsize = (9,7.5))\n",
    "plt.scatter(df1[\"Spending Score (1-100)\"] , df1[\"Annual Income (k$)\"]  , color = \"#521820\" , label = \"1\")\n",
    "plt.scatter(df2[\"Spending Score (1-100)\"] , df2[\"Annual Income (k$)\"]  , color = \"#1f6393\" , label = \"2\")\n",
    "plt.scatter(df3[\"Spending Score (1-100)\"] , df3[\"Annual Income (k$)\"] , color = \"#06ac72\" , label = \"3\")\n",
    "plt.scatter(df4[\"Spending Score (1-100)\"] , df4[\"Annual Income (k$)\"], color = \"#b91c97\" , label = \"4\")\n",
    "plt.scatter(df5[\"Spending Score (1-100)\"] , df5[\"Annual Income (k$)\"] , color = \"#cab59a\" , label = \"5\")\n",
    "plt.scatter(model.cluster_centers_[: , 0] ,  model.cluster_centers_[: , 1] , color = \"magenta\" , marker = \"*\"  , label =  \"Centroids\")\n",
    "plt.legend(loc='upper right'  , bbox_to_anchor=(1.20, 1.015))\n",
    "plt.title(\"Clusters\")\n",
    "plt.xlabel(\"Spending Score\")\n",
    "plt.ylabel(\"Annual Income\")\n",
    "plt.show()"
   ]
  }
 ],
 "metadata": {
  "kaggle": {
   "accelerator": "none",
   "dataSources": [
    {
     "datasetId": 42674,
     "sourceId": 74935,
     "sourceType": "datasetVersion"
    }
   ],
   "dockerImageVersionId": 30664,
   "isGpuEnabled": false,
   "isInternetEnabled": true,
   "language": "python",
   "sourceType": "notebook"
  },
  "kernelspec": {
   "display_name": "Python 3",
   "language": "python",
   "name": "python3"
  },
  "language_info": {
   "codemirror_mode": {
    "name": "ipython",
    "version": 3
   },
   "file_extension": ".py",
   "mimetype": "text/x-python",
   "name": "python",
   "nbconvert_exporter": "python",
   "pygments_lexer": "ipython3",
   "version": "3.10.13"
  },
  "papermill": {
   "default_parameters": {},
   "duration": 8.429199,
   "end_time": "2024-08-05T18:24:27.114582",
   "environment_variables": {},
   "exception": null,
   "input_path": "__notebook__.ipynb",
   "output_path": "__notebook__.ipynb",
   "parameters": {},
   "start_time": "2024-08-05T18:24:18.685383",
   "version": "2.5.0"
  }
 },
 "nbformat": 4,
 "nbformat_minor": 5
}
